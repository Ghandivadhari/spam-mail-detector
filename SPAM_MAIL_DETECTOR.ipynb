{
  "cells": [
    {
      "cell_type": "markdown",
      "source": [
        "IMPORTING THE DEPENDENCIES"
      ],
      "metadata": {
        "id": "Gqg2c8z-9dcM"
      }
    },
    {
      "cell_type": "code",
      "source": [
        "from google.colab import drive\n",
        "drive.mount('/content/drive')"
      ],
      "metadata": {
        "id": "0nqClogEj2NL"
      },
      "execution_count": null,
      "outputs": []
    },
    {
      "cell_type": "code",
      "source": [
        "import numpy as np\n",
        "import pandas as pd\n",
        "from sklearn.model_selection import train_test_split\n",
        "from sklearn.linear_model import LogisticRegression\n",
        "from sklearn.metrics import accuracy_score\n",
        "from sklearn.feature_extraction.text import TfidfVectorizer"
      ],
      "metadata": {
        "id": "-GZd2Qvp97iK"
      },
      "execution_count": null,
      "outputs": []
    },
    {
      "cell_type": "markdown",
      "source": [
        "Data collection and pre processing"
      ],
      "metadata": {
        "id": "XIn56Bnm-dXz"
      }
    },
    {
      "cell_type": "code",
      "source": [
        "#loading the data from csv file to a pandas dataframes\n",
        "raw_mail_data=pd.read_csv('mail_data.csv')\n",
        "print(raw_mail_data)"
      ],
      "metadata": {
        "collapsed": true,
        "id": "q-2OmmVS98F6"
      },
      "execution_count": null,
      "outputs": []
    },
    {
      "cell_type": "code",
      "source": [
        "#replace the null values with a null string\n",
        "mail_data=raw_mail_data.where((pd.notnull(raw_mail_data)),'')"
      ],
      "metadata": {
        "id": "VsDguZD8_Cqa"
      },
      "execution_count": null,
      "outputs": []
    },
    {
      "cell_type": "code",
      "source": [
        "#printing first five rows of the dataframe\n",
        "mail_data.head()"
      ],
      "metadata": {
        "id": "dkGjR71B_As5"
      },
      "execution_count": null,
      "outputs": []
    },
    {
      "cell_type": "code",
      "source": [
        "#checking the number of rows and columns in the dataframe\n",
        "mail_data.shape"
      ],
      "metadata": {
        "id": "vfu59wu9_kMt"
      },
      "execution_count": null,
      "outputs": []
    },
    {
      "cell_type": "markdown",
      "source": [
        "LABEL ENCODING"
      ],
      "metadata": {
        "id": "k8xb_L8Z_u0N"
      }
    },
    {
      "cell_type": "code",
      "source": [
        "#label spam mail as 0 and ham mail as 1;\n",
        "mail_data.loc[mail_data['Category']=='spam','Category',]=0\n",
        "mail_data.loc[mail_data['Category']=='ham','Category',]=1"
      ],
      "metadata": {
        "id": "l8s33QzI_yKh"
      },
      "execution_count": null,
      "outputs": []
    },
    {
      "cell_type": "code",
      "source": [
        "#separating the data as texts and labels\n",
        "X=mail_data['Message']\n",
        "Y=mail_data['Category']"
      ],
      "metadata": {
        "id": "ipOCCjtaADV9"
      },
      "execution_count": null,
      "outputs": []
    },
    {
      "cell_type": "code",
      "source": [
        "print(X)"
      ],
      "metadata": {
        "id": "QHk-jT1SAJkK"
      },
      "execution_count": null,
      "outputs": []
    },
    {
      "cell_type": "code",
      "source": [
        "print(Y)"
      ],
      "metadata": {
        "id": "6wNrl9jXAOTO"
      },
      "execution_count": null,
      "outputs": []
    },
    {
      "cell_type": "code",
      "source": [
        "X_train,X_test,Y_train,Y_test=train_test_split(X,Y,test_size=0.2,random_state=3)"
      ],
      "metadata": {
        "id": "NIG4lSgVARtI"
      },
      "execution_count": null,
      "outputs": []
    },
    {
      "cell_type": "code",
      "source": [
        "print(X.shape)\n",
        "print(X_train.shape)\n",
        "print(X_test.shape)"
      ],
      "metadata": {
        "id": "PtTyHSYEAeah"
      },
      "execution_count": null,
      "outputs": []
    },
    {
      "cell_type": "markdown",
      "source": [
        "FEATURE EXTRACTION"
      ],
      "metadata": {
        "id": "ffRyM6K4AjR2"
      }
    },
    {
      "cell_type": "code",
      "source": [
        "#transform the text data to feature vectors that can be used as input to the logistic regression\n",
        "feature_extraction=TfidfVectorizer(min_df=1,stop_words='english',lowercase='True')\n",
        "X_train_features=feature_extraction.fit_transform(X_train)\n",
        "X_test_features=feature_extraction.transform(X_test)"
      ],
      "metadata": {
        "id": "KiDgmBBgAhwd"
      },
      "execution_count": null,
      "outputs": []
    },
    {
      "cell_type": "code",
      "source": [
        "#convert Y_train and Y_test values as integers\n",
        "Y_train=Y_train.astype('int')\n",
        "Y_test=Y_test.astype('int')"
      ],
      "metadata": {
        "id": "B_YZt2NHBSfW"
      },
      "execution_count": null,
      "outputs": []
    },
    {
      "cell_type": "code",
      "source": [
        "print(X_train)"
      ],
      "metadata": {
        "id": "m3qrhxWCBfWq"
      },
      "execution_count": null,
      "outputs": []
    },
    {
      "cell_type": "code",
      "source": [
        "print(X_train_features)"
      ],
      "metadata": {
        "id": "i-80WvS4BiGK"
      },
      "execution_count": null,
      "outputs": []
    },
    {
      "cell_type": "markdown",
      "source": [
        "TRAINING THE MODEL -LOGISTIC REGRESSION"
      ],
      "metadata": {
        "id": "Zi9_Ft3YBmLJ"
      }
    },
    {
      "cell_type": "code",
      "source": [
        "model=LogisticRegression()"
      ],
      "metadata": {
        "id": "iR2PIehYBlCS"
      },
      "execution_count": null,
      "outputs": []
    },
    {
      "cell_type": "code",
      "source": [
        "#training the logistic regression model with the training data\n",
        "model.fit(X_train_features,Y_train)"
      ],
      "metadata": {
        "id": "OxH7emCTB0HI"
      },
      "execution_count": null,
      "outputs": []
    },
    {
      "cell_type": "markdown",
      "source": [
        "EVALUATING THE TRAINED MODEL"
      ],
      "metadata": {
        "id": "h-pOTCK-CKrf"
      }
    },
    {
      "cell_type": "code",
      "source": [
        "#prediction on training data\n",
        "prediction_on_training_data=model.predict(X_train_features)\n",
        "accuracy_on_training_data=accuracy_score(Y_train,prediction_on_training_data)"
      ],
      "metadata": {
        "id": "wtIu896CCFiW"
      },
      "execution_count": null,
      "outputs": []
    },
    {
      "cell_type": "code",
      "source": [
        "print('Accuracy on training data:',accuracy_on_training_data)"
      ],
      "metadata": {
        "id": "NcVlSBc9DAo1"
      },
      "execution_count": null,
      "outputs": []
    },
    {
      "cell_type": "code",
      "source": [
        "#prediction on test data\n",
        "prediction_on_test_data=model.predict(X_test_features)\n",
        "accuracy_on_test_data=accuracy_score(Y_test,prediction_on_test_data)"
      ],
      "metadata": {
        "id": "EDPzct9kDD4v"
      },
      "execution_count": null,
      "outputs": []
    },
    {
      "cell_type": "code",
      "source": [
        "print('Accuracy on test data:',accuracy_on_test_data)"
      ],
      "metadata": {
        "id": "ZpfU8OsrDIPQ"
      },
      "execution_count": null,
      "outputs": []
    },
    {
      "cell_type": "markdown",
      "source": [
        "BUILDING A PREDICTIVE SYSTEM"
      ],
      "metadata": {
        "id": "9tmpxCgXDLf-"
      }
    },
    {
      "cell_type": "code",
      "source": [
        "input_mail=[\"Go until jurong point, crazy.. Available only in bugis n great world la e buffet... Cine there got amore wat...\"]\n",
        "\n",
        "#convert text to feature vectors\n",
        "input_data_features=feature_extraction.transform(input_mail)\n",
        "\n",
        "#making prediction\n",
        "prediction=model.predict(input_data_features)\n",
        "print(prediction)\n",
        "\n",
        "if(prediction[0]==1):\n",
        "    print('HAM MAIL')\n",
        "else:\n",
        "    print('SPAM MAIL')"
      ],
      "metadata": {
        "id": "TmniRtiWDSHS"
      },
      "execution_count": null,
      "outputs": []
    }
  ],
  "metadata": {
    "colab": {
      "provenance": []
    },
    "kernelspec": {
      "display_name": "Python 3",
      "name": "python3"
    }
  },
  "nbformat": 4,
  "nbformat_minor": 0
}